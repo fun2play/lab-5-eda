{
 "cells": [
  {
   "cell_type": "markdown",
   "id": "7b90a32e",
   "metadata": {},
   "source": [
    "# Lab 5 | EDA & Visualisation"
   ]
  },
  {
   "cell_type": "code",
   "execution_count": 9,
   "id": "fe382dab",
   "metadata": {},
   "outputs": [
    {
     "data": {
      "text/html": [
       "<div>\n",
       "<style scoped>\n",
       "    .dataframe tbody tr th:only-of-type {\n",
       "        vertical-align: middle;\n",
       "    }\n",
       "\n",
       "    .dataframe tbody tr th {\n",
       "        vertical-align: top;\n",
       "    }\n",
       "\n",
       "    .dataframe thead th {\n",
       "        text-align: right;\n",
       "    }\n",
       "</style>\n",
       "<table border=\"1\" class=\"dataframe\">\n",
       "  <thead>\n",
       "    <tr style=\"text-align: right;\">\n",
       "      <th></th>\n",
       "      <th>student_id</th>\n",
       "      <th>age</th>\n",
       "      <th>gpa</th>\n",
       "      <th>gender</th>\n",
       "      <th>major</th>\n",
       "      <th>year</th>\n",
       "    </tr>\n",
       "  </thead>\n",
       "  <tbody>\n",
       "    <tr>\n",
       "      <th>0</th>\n",
       "      <td>1</td>\n",
       "      <td>14</td>\n",
       "      <td>NaN</td>\n",
       "      <td>F</td>\n",
       "      <td>Economics</td>\n",
       "      <td>freshman</td>\n",
       "    </tr>\n",
       "    <tr>\n",
       "      <th>1</th>\n",
       "      <td>2</td>\n",
       "      <td>17</td>\n",
       "      <td>2.92</td>\n",
       "      <td>M</td>\n",
       "      <td>History</td>\n",
       "      <td>senior</td>\n",
       "    </tr>\n",
       "    <tr>\n",
       "      <th>2</th>\n",
       "      <td>3</td>\n",
       "      <td>17</td>\n",
       "      <td>2.97</td>\n",
       "      <td>F</td>\n",
       "      <td>Physics</td>\n",
       "      <td>senior</td>\n",
       "    </tr>\n",
       "    <tr>\n",
       "      <th>3</th>\n",
       "      <td>4</td>\n",
       "      <td>16</td>\n",
       "      <td>2.76</td>\n",
       "      <td>F</td>\n",
       "      <td>Physics</td>\n",
       "      <td>junior</td>\n",
       "    </tr>\n",
       "    <tr>\n",
       "      <th>4</th>\n",
       "      <td>5</td>\n",
       "      <td>16</td>\n",
       "      <td>2.24</td>\n",
       "      <td>M</td>\n",
       "      <td>Chemistry</td>\n",
       "      <td>junior</td>\n",
       "    </tr>\n",
       "  </tbody>\n",
       "</table>\n",
       "</div>"
      ],
      "text/plain": [
       "   student_id  age   gpa gender      major      year\n",
       "0           1   14   NaN      F  Economics  freshman\n",
       "1           2   17  2.92      M    History    senior\n",
       "2           3   17  2.97      F    Physics    senior\n",
       "3           4   16  2.76      F    Physics    junior\n",
       "4           5   16  2.24      M  Chemistry    junior"
      ]
     },
     "execution_count": 9,
     "metadata": {},
     "output_type": "execute_result"
    }
   ],
   "source": [
    "import pandas as pd\n",
    "df = pd.read_csv(\"../data/students.csv\")\n",
    "df.head()"
   ]
  },
  {
   "cell_type": "code",
   "execution_count": 10,
   "id": "f9c92cf5",
   "metadata": {},
   "outputs": [
    {
     "name": "stdout",
     "output_type": "stream",
     "text": [
      "<class 'pandas.core.frame.DataFrame'>\n",
      "RangeIndex: 100 entries, 0 to 99\n",
      "Data columns (total 6 columns):\n",
      " #   Column      Non-Null Count  Dtype  \n",
      "---  ------      --------------  -----  \n",
      " 0   student_id  100 non-null    int64  \n",
      " 1   age         100 non-null    int64  \n",
      " 2   gpa         90 non-null     float64\n",
      " 3   gender      100 non-null    object \n",
      " 4   major       95 non-null     object \n",
      " 5   year        100 non-null    object \n",
      "dtypes: float64(1), int64(2), object(3)\n",
      "memory usage: 4.8+ KB\n"
     ]
    },
    {
     "data": {
      "text/plain": [
       "student_id     0\n",
       "age            0\n",
       "gpa           10\n",
       "gender         0\n",
       "major          5\n",
       "year           0\n",
       "dtype: int64"
      ]
     },
     "execution_count": 10,
     "metadata": {},
     "output_type": "execute_result"
    }
   ],
   "source": [
    "df.info()\n",
    "df.isna().sum()"
   ]
  },
  {
   "cell_type": "markdown",
   "id": "998d2779",
   "metadata": {},
   "source": [
    "### Which column has the most missing values and why might that be?\n",
    "Answer: GPA has the most missing values as it is the hardest to gather (needing all of the courses and the grades to calculate)"
   ]
  },
  {
   "cell_type": "code",
   "execution_count": 30,
   "id": "ae4abe30",
   "metadata": {},
   "outputs": [
    {
     "name": "stdout",
     "output_type": "stream",
     "text": [
      "                                                 count       mean  median  \\\n",
      "gpa                                                 95  16.136842   16.00   \n",
      "age  0      NaN\n",
      "1     2.92\n",
      "2     2.97\n",
      "3     2.76\n",
      "4 ...   2.627412    2.67   \n",
      "\n",
      "     variance                                                 SD   min   max  \n",
      "gpa  1.970437  <bound method Series.std of 0     14\\n1     17...  14.0  18.0  \n",
      "age  0.229993                                           0.479576   NaN   NaN  \n"
     ]
    }
   ],
   "source": [
    "import statistics\n",
    "age_count = len(df['age'])\n",
    "age_mean = df['age'].mean()\n",
    "age_median = df['age'].median()\n",
    "age_variance = df['age'].var()\n",
    "age_SD = df['age'].std\n",
    "age_min = min(df['age'])\n",
    "age_max = max(df['age'])\n",
    "\n",
    "gpa_count = df['gpa']\n",
    "gpa_mean = df['gpa'].mean()\n",
    "gpa_median = df['gpa'].median()\n",
    "gpa_variance = df['gpa'].var()\n",
    "gpa_SD = df['gpa'].std()\n",
    "gpa_min = min(df['gpa'])\n",
    "gpa_max = max(df['gpa'])\n",
    "\n",
    "\n",
    "\n",
    "dicts = {'count': [age_count, gpa_count], \"mean\": [age_mean, gpa_mean], \"median\": [age_median, gpa_median], \"variance\": [age_variance, gpa_variance], \"SD\": [age_SD, gpa_SD], \"min\": [age_min, gpa_min], \"max\": [age_max, gpa_max]}\n",
    "print(pd.DataFrame(dicts, index = ['gpa', 'age']))"
   ]
  },
  {
   "cell_type": "code",
   "execution_count": 19,
   "id": "042759c9",
   "metadata": {},
   "outputs": [
    {
     "data": {
      "text/plain": [
       "<Axes: >"
      ]
     },
     "execution_count": 19,
     "metadata": {},
     "output_type": "execute_result"
    },
    {
     "data": {
      "image/png": "[encoded data removed]",
      "text/plain": [
       "<Figure size 640x480 with 1 Axes>"
      ]
     },
     "metadata": {},
     "output_type": "display_data"
    }
   ],
   "source": [
    "df['age'].hist(bins=range(14,20),align='left',rwidth=0.8)"
   ]
  },
  {
   "cell_type": "code",
   "execution_count": 12,
   "id": "0aad45a4",
   "metadata": {},
   "outputs": [
    {
     "data": {
      "text/plain": [
       "<Axes: xlabel='gpa', ylabel='Count'>"
      ]
     },
     "execution_count": 12,
     "metadata": {},
     "output_type": "execute_result"
    },
    {
     "data": {
      "image/png": "[encoded data removed]",
      "text/plain": [
       "<Figure size 640x480 with 1 Axes>"
      ]
     },
     "metadata": {},
     "output_type": "display_data"
    }
   ],
   "source": [
    "import seaborn as sns\n",
    "sns.histplot(df[\"gpa\"], kde = True)"
   ]
  },
  {
   "cell_type": "markdown",
   "id": "ba6df7d3",
   "metadata": {},
   "source": [
    "### Interesting Feautures of Each Distribution\n",
    "The first histogram has an disproportionate distribution while the second shows a clear trend and average."
   ]
  },
  {
   "cell_type": "code",
   "execution_count": 13,
   "id": "3825c367",
   "metadata": {},
   "outputs": [
    {
     "data": {
      "text/plain": [
       "<Axes: xlabel='age', ylabel='gpa'>"
      ]
     },
     "execution_count": 13,
     "metadata": {},
     "output_type": "execute_result"
    },
    {
     "data": {
      "image/png": "[encoded data removed]",
      "text/plain": [
       "<Figure size 640x480 with 1 Axes>"
      ]
     },
     "metadata": {},
     "output_type": "display_data"
    }
   ],
   "source": [
    "sns.scatterplot(x = \"age\", y = \"gpa\", data = df)"
   ]
  },
  {
   "cell_type": "code",
   "execution_count": 14,
   "id": "52647fe9",
   "metadata": {},
   "outputs": [
    {
     "data": {
      "text/plain": [
       "np.float64(0.8786075344584666)"
      ]
     },
     "execution_count": 14,
     "metadata": {},
     "output_type": "execute_result"
    }
   ],
   "source": [
    "df[\"age\"].corr(df[\"gpa\"])"
   ]
  },
  {
   "cell_type": "markdown",
   "id": "486c87d9",
   "metadata": {},
   "source": [
    "### Trends of GPA and Age\n",
    "GPA has a proportional trend with age in this mini dataset with a correlation of approximately 0.87."
   ]
  },
  {
   "cell_type": "code",
   "execution_count": 15,
   "id": "0ddc9b48",
   "metadata": {},
   "outputs": [],
   "source": [
    "import numpy\n",
    "df[\"major\"] = df[\"major\"].str.lower()\n",
    "df[\"major\"] = df[\"major\"].str.strip()\n",
    "df[\"major\"].replace(\"\", None)\n",
    "df = df.dropna(subset = \"major\")"
   ]
  },
  {
   "cell_type": "code",
   "execution_count": 16,
   "id": "24dc1e0a",
   "metadata": {},
   "outputs": [],
   "source": [
    "df.to_csv(\"../data/students_clean.csv\", index = False)"
   ]
  },
  {
   "cell_type": "markdown",
   "id": "7f86ba7e",
   "metadata": {},
   "source": [
    "## Conclusion\n",
    "Findings: In this data file, the gpa and age are strongly correlated. GPA has a somewhat even distribution, and age is unevenly distributed. The data file is cleaned through removing empty majors and making the format even."
   ]
  }
 ],
 "metadata": {
  "kernelspec": {
   "display_name": "lab_5",
   "language": "python",
   "name": "python3"
  },
  "language_info": {
   "codemirror_mode": {
    "name": "ipython",
    "version": 3
   },
   "file_extension": ".py",
   "mimetype": "text/x-python",
   "name": "python",
   "nbconvert_exporter": "python",
   "pygments_lexer": "ipython3",
   "version": "3.13.5"
  }
 },
 "nbformat": 4,
 "nbformat_minor": 5
}
